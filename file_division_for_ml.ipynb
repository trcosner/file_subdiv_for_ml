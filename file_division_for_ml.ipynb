{
 "cells": [
  {
   "cell_type": "markdown",
   "metadata": {},
   "source": [
    "#  File Subdivision\n"
   ]
  },
  {
   "cell_type": "markdown",
   "metadata": {},
   "source": [
    "#### Import Dependencies"
   ]
  },
  {
   "cell_type": "code",
   "execution_count": null,
   "metadata": {
    "collapsed": true
   },
   "outputs": [],
   "source": [
    "import os, sys, random, zipfile\n",
    "from importlib import reload  # Python 3\n",
    "import numpy as np\n",
    "import shutil\n",
    "from glob import glob"
   ]
  },
  {
   "cell_type": "markdown",
   "metadata": {},
   "source": [
    "#### Define Constants"
   ]
  },
  {
   "cell_type": "code",
   "execution_count": null,
   "metadata": {
    "collapsed": true
   },
   "outputs": [],
   "source": [
    "#NOTE - notebook assumes data has been unzipped\n",
    "LABEL_LIST = \"breedList.txt\" #made a textfile from the list of breeds provided\n",
    "ID_MAP = \"labels.csv\"\n",
    "\n",
    "STORAGE_DIR = \"{input dir}\"\n",
    "TRAIN_DIR = STORAGE_DIR + \"train/\"\n",
    "VAL_DIR = STORAGE_DIR + \"valid/\"\n",
    "\n",
    "SAMPLE_DIR = STORAGE_DIR + \"sample/\"\n",
    "SAMPLE_TRAIN = SAMPLE_DIR + \"train/\"\n",
    "SAMPLE_VAL = SAMPLE_DIR + \"valid/\"\n",
    "\n",
    "RESULTS_DIR = STORAGE_DIR + \"results/\""
   ]
  },
  {
   "cell_type": "markdown",
   "metadata": {},
   "source": [
    "#### Define Directory Structure"
   ]
  },
  {
   "cell_type": "code",
   "execution_count": null,
   "metadata": {},
   "outputs": [],
   "source": [
    "%cd $STORAGE_DIR\n",
    "\n",
    "if not os.path.isdir(TRAIN_DIR):\n",
    "    %mkdir $TRAIN_DIR\n",
    "\n",
    "if not os.path.isdir(VAL_DIR):\n",
    "    %mkdir $VAL_DIR\n",
    "    \n",
    "if not os.path.isdir(SAMPLE_DIR):\n",
    "    %mkdir $SAMPLE_DIR\n",
    "    \n",
    "if not os.path.isdir(SAMPLE_TRAIN):\n",
    "    %mkdir $SAMPLE_TRAIN\n",
    "\n",
    "if not os.path.isdir(SAMPLE_VAL):\n",
    "    %mkdir $SAMPLE_VAL\n",
    "    \n",
    "if not os.path.isdir(RESULTS_DIR):\n",
    "    %mkdir $RESULTS_DIR"
   ]
  },
  {
   "cell_type": "markdown",
   "metadata": {},
   "source": [
    "#### Sort Data By Label"
   ]
  },
  {
   "cell_type": "code",
   "execution_count": null,
   "metadata": {
    "collapsed": true
   },
   "outputs": [],
   "source": [
    "def processLabels(labels, path):\n",
    "    %cd $path\n",
    "    for label in labels:\n",
    "        if not os.path.isdir(label):\n",
    "            %mkdir $label"
   ]
  },
  {
   "cell_type": "code",
   "execution_count": null,
   "metadata": {
    "collapsed": true
   },
   "outputs": [],
   "source": [
    "def selectRandomFiles(num, path):\n",
    "    if len(os.listdir(path)) < num:\n",
    "        num = len(os.listdir(path))\n",
    "        \n",
    "    selected = []\n",
    "    while num >= len(selected):\n",
    "            choice = random.choice(os.listdir(path))\n",
    "            print(\"ch: \" + choice)\n",
    "            if choice not in selected:\n",
    "                selected.append(choice)\n",
    "    return selected"
   ]
  },
  {
   "cell_type": "code",
   "execution_count": null,
   "metadata": {
    "collapsed": true
   },
   "outputs": [],
   "source": [
    "def createSampleSet(labels, samplePath, sourcePath, num):\n",
    "    processLabels(labels, samplePath)\n",
    "    for label in labels:\n",
    "        existing = len(os.listdir(samplePath + label + \"/\"))\n",
    "        if existing < num:\n",
    "            files = selectRandomFiles(num - existing, sourcePath + label + \"/\")\n",
    "            for file in files:\n",
    "                src = sourcePath + label + \"/\" + file\n",
    "                dest = samplePath + label + \"/\"\n",
    "                shutil.copy2(src, dest)"
   ]
  },
  {
   "cell_type": "code",
   "execution_count": null,
   "metadata": {
    "collapsed": true
   },
   "outputs": [],
   "source": [
    "def removeUnsortedFiles(path):\n",
    "    files = glob(path + \"*.jpg\")\n",
    "    for file in files:\n",
    "        os.remove(file)"
   ]
  },
  {
   "cell_type": "code",
   "execution_count": null,
   "metadata": {
    "collapsed": true
   },
   "outputs": [],
   "source": [
    "def createTrainingSet(labels, items):\n",
    "    processLabels(labels, TRAIN_DIR)\n",
    "    for item in items:\n",
    "        file = TRAIN_DIR + item[0] + \".jpg\"\n",
    "        dest = TRAIN_DIR + item[1] + \"/\" + item[0] + \".jpg\"\n",
    "        if os.path.isfile(file):\n",
    "            shutil.copy2(file, dest)\n",
    "    createSampleSet(labels, SAMPLE_TRAIN, TRAIN_DIR, 16)\n",
    "    removeUnsortedFiles(TRAIN_DIR)"
   ]
  },
  {
   "cell_type": "code",
   "execution_count": null,
   "metadata": {
    "collapsed": true
   },
   "outputs": [],
   "source": [
    "def createValidationSet(lables):\n",
    "    processLabels(labels, VAL_DIR)\n",
    "    for label in labels:\n",
    "        existing = len(os.listdir(VAL_DIR + label))\n",
    "        if(existing > 0):\n",
    "             continue\n",
    "        files = os.listdir(TRAIN_DIR + label)\n",
    "        numForValid = int(np.ceil(len(files) * .2))\n",
    "        for file in files[-numForValid:]:\n",
    "            src = TRAIN_DIR + label + \"/\" + file\n",
    "            dest = VAL_DIR + label + \"/\" + file\n",
    "            shutil.copy2(src , dest)\n",
    "            os.remove(src)\n",
    "    createSampleSet(labels, SAMPLE_VAL, VAL_DIR, 4)"
   ]
  },
  {
   "cell_type": "code",
   "execution_count": null,
   "metadata": {
    "collapsed": true
   },
   "outputs": [],
   "source": [
    "def sortData(labels):\n",
    "    items = np.loadtxt(STORAGE_DIR + ID_MAP, delimiter=',', dtype=str, skiprows=1)\n",
    "    createTrainingSet(labels, items)\n",
    "    createValidationSet(labels)"
   ]
  },
  {
   "cell_type": "code",
   "execution_count": null,
   "metadata": {
    "collapsed": true
   },
   "outputs": [],
   "source": [
    "def getLabels():\n",
    "    if os.path.isfile(STORAGE_DIR + LABEL_LIST):\n",
    "        try: \n",
    "            f = open(STORAGE_DIR + LABEL_LIST, 'r')\n",
    "            fileString = f.read()\n",
    "            return fileString.splitlines()\n",
    "        except IOError:\n",
    "            print(\"Could not read file: \", LABEL_LIST)\n",
    "    return []"
   ]
  },
  {
   "cell_type": "code",
   "execution_count": null,
   "metadata": {},
   "outputs": [],
   "source": [
    "labels = getLabels()\n",
    "sortData(labels)"
   ]
  }
 ],
 "metadata": {
  "kernelspec": {
   "display_name": "Python 3",
   "language": "python",
   "name": "python3"
  },
  "language_info": {
   "codemirror_mode": {
    "name": "ipython",
    "version": 3
   },
   "file_extension": ".py",
   "mimetype": "text/x-python",
   "name": "python",
   "nbconvert_exporter": "python",
   "pygments_lexer": "ipython3",
   "version": "3.6.3"
  }
 },
 "nbformat": 4,
 "nbformat_minor": 2
}
